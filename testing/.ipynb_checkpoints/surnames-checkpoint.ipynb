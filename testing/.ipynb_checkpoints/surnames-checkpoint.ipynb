{
 "cells": [
  {
   "cell_type": "code",
   "execution_count": 2,
   "metadata": {
    "collapsed": false
   },
   "outputs": [
    {
     "ename": "NameError",
     "evalue": "name 'Gravesande' is not defined",
     "output_type": "error",
     "traceback": [
      "\u001b[0;31m---------------------------------------------------------------------------\u001b[0m",
      "\u001b[0;31mNameError\u001b[0m                                 Traceback (most recent call last)",
      "\u001b[0;32m<ipython-input-2-13e257b1ad83>\u001b[0m in \u001b[0;36m<module>\u001b[0;34m()\u001b[0m\n\u001b[0;32m----> 1\u001b[0;31m \u001b[0mlistofSurnames\u001b[0m \u001b[0;34m=\u001b[0m \u001b[0;34m[\u001b[0m\u001b[0mGravesande\u001b[0m\u001b[0;34m,\u001b[0m \u001b[0mAbbot\u001b[0m\u001b[0;34m,\u001b[0m \u001b[0mAbbot\u001b[0m\u001b[0;34m,\u001b[0m \u001b[0mAbeille\u001b[0m\u001b[0;34m,\u001b[0m \u001b[0mAbel\u001b[0m\u001b[0;34m,\u001b[0m \u001b[0mAbel\u001b[0m\u001b[0;34m,\u001b[0m \u001b[0mAbel\u001b[0m\u001b[0;34m,\u001b[0m \u001b[0mAbercrombie\u001b[0m\u001b[0;34m,\u001b[0m \u001b[0mAbernethy\u001b[0m\u001b[0;34m]\u001b[0m\u001b[0;34m\u001b[0m\u001b[0m\n\u001b[0m",
      "\u001b[0;31mNameError\u001b[0m: name 'Gravesande' is not defined"
     ]
    }
   ],
   "source": [
    "listofSurnames = ['Gravesande', 'Abbot', 'Abbot', 'Abeille', 'Abel', 'Abel', 'Abel', 'Abercrombie', 'Abernethy']"
   ]
  },
  {
   "cell_type": "raw",
   "metadata": {},
   "source": [
    "print len(listofSurnames) "
   ]
  }
 ],
 "metadata": {
  "kernelspec": {
   "display_name": "Python 3",
   "language": "python",
   "name": "python3"
  },
  "language_info": {
   "codemirror_mode": {
    "name": "ipython",
    "version": 3
   },
   "file_extension": ".py",
   "mimetype": "text/x-python",
   "name": "python",
   "nbconvert_exporter": "python",
   "pygments_lexer": "ipython3",
   "version": "3.4.3"
  }
 },
 "nbformat": 4,
 "nbformat_minor": 0
}
